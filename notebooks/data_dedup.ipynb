{
 "cells": [
  {
   "cell_type": "code",
   "execution_count": 1,
   "id": "initial_id",
   "metadata": {
    "collapsed": true,
    "ExecuteTime": {
     "end_time": "2024-03-27T04:34:30.012373Z",
     "start_time": "2024-03-27T04:34:29.745298Z"
    }
   },
   "outputs": [],
   "source": [
    "import pandas as pd\n",
    "import sqlite3"
   ]
  },
  {
   "cell_type": "code",
   "outputs": [],
   "source": [
    "# Create a SQL connection to our SQLite database\n",
    "con = sqlite3.connect(\"../larrys_database.db\")"
   ],
   "metadata": {
    "collapsed": false,
    "ExecuteTime": {
     "end_time": "2024-03-27T04:48:43.712436Z",
     "start_time": "2024-03-27T04:48:43.709520Z"
    }
   },
   "id": "9a1c346f0474cced",
   "execution_count": 30
  },
  {
   "cell_type": "code",
   "outputs": [],
   "source": [
    "# Load the data into a DataFrame\n",
    "df = pd.read_sql_query(\"SELECT * from points\", con)"
   ],
   "metadata": {
    "collapsed": false,
    "ExecuteTime": {
     "end_time": "2024-03-27T04:48:44.106890Z",
     "start_time": "2024-03-27T04:48:44.102766Z"
    }
   },
   "id": "ef0ee30995bbd3f9",
   "execution_count": 31
  },
  {
   "cell_type": "code",
   "outputs": [],
   "source": [
    "# Drop duplicates\n",
    "dedup_df = df.drop_duplicates()"
   ],
   "metadata": {
    "collapsed": false,
    "ExecuteTime": {
     "end_time": "2024-03-27T04:48:44.820945Z",
     "start_time": "2024-03-27T04:48:44.816821Z"
    }
   },
   "id": "43705164f8b7361e",
   "execution_count": 32
  },
  {
   "cell_type": "code",
   "outputs": [
    {
     "data": {
      "text/plain": "             name                  id  points_awarded         day      type\n0        dinkstar  353332394541187074       49.925926  2024-01-02   ON TIME\n1           bemno  369989877229682688       29.037037  2024-01-02   ON TIME\n2       jam4bears  390403088722165762       49.851852  2024-01-02   ON TIME\n3    kyboydigital  639283802308476970       29.962963  2024-01-02   ON TIME\n4        dinkstar  353332394541187074        9.407407  2024-01-02  DURATION\n..            ...                 ...             ...         ...       ...\n529      dinkstar  353332394541187074       50.000000  2024-03-25  DURATION\n530      dinkstar  353332394541187074       42.223581  2024-03-26   ON TIME\n531  kyboydigital  639283802308476970        0.000000  2024-03-26   ON TIME\n532      dinkstar  353332394541187074       50.000000  2024-03-26  DURATION\n533  kyboydigital  639283802308476970        3.990342  2024-03-26  DURATION\n\n[534 rows x 5 columns]",
      "text/html": "<div>\n<style scoped>\n    .dataframe tbody tr th:only-of-type {\n        vertical-align: middle;\n    }\n\n    .dataframe tbody tr th {\n        vertical-align: top;\n    }\n\n    .dataframe thead th {\n        text-align: right;\n    }\n</style>\n<table border=\"1\" class=\"dataframe\">\n  <thead>\n    <tr style=\"text-align: right;\">\n      <th></th>\n      <th>name</th>\n      <th>id</th>\n      <th>points_awarded</th>\n      <th>day</th>\n      <th>type</th>\n    </tr>\n  </thead>\n  <tbody>\n    <tr>\n      <th>0</th>\n      <td>dinkstar</td>\n      <td>353332394541187074</td>\n      <td>49.925926</td>\n      <td>2024-01-02</td>\n      <td>ON TIME</td>\n    </tr>\n    <tr>\n      <th>1</th>\n      <td>bemno</td>\n      <td>369989877229682688</td>\n      <td>29.037037</td>\n      <td>2024-01-02</td>\n      <td>ON TIME</td>\n    </tr>\n    <tr>\n      <th>2</th>\n      <td>jam4bears</td>\n      <td>390403088722165762</td>\n      <td>49.851852</td>\n      <td>2024-01-02</td>\n      <td>ON TIME</td>\n    </tr>\n    <tr>\n      <th>3</th>\n      <td>kyboydigital</td>\n      <td>639283802308476970</td>\n      <td>29.962963</td>\n      <td>2024-01-02</td>\n      <td>ON TIME</td>\n    </tr>\n    <tr>\n      <th>4</th>\n      <td>dinkstar</td>\n      <td>353332394541187074</td>\n      <td>9.407407</td>\n      <td>2024-01-02</td>\n      <td>DURATION</td>\n    </tr>\n    <tr>\n      <th>...</th>\n      <td>...</td>\n      <td>...</td>\n      <td>...</td>\n      <td>...</td>\n      <td>...</td>\n    </tr>\n    <tr>\n      <th>529</th>\n      <td>dinkstar</td>\n      <td>353332394541187074</td>\n      <td>50.000000</td>\n      <td>2024-03-25</td>\n      <td>DURATION</td>\n    </tr>\n    <tr>\n      <th>530</th>\n      <td>dinkstar</td>\n      <td>353332394541187074</td>\n      <td>42.223581</td>\n      <td>2024-03-26</td>\n      <td>ON TIME</td>\n    </tr>\n    <tr>\n      <th>531</th>\n      <td>kyboydigital</td>\n      <td>639283802308476970</td>\n      <td>0.000000</td>\n      <td>2024-03-26</td>\n      <td>ON TIME</td>\n    </tr>\n    <tr>\n      <th>532</th>\n      <td>dinkstar</td>\n      <td>353332394541187074</td>\n      <td>50.000000</td>\n      <td>2024-03-26</td>\n      <td>DURATION</td>\n    </tr>\n    <tr>\n      <th>533</th>\n      <td>kyboydigital</td>\n      <td>639283802308476970</td>\n      <td>3.990342</td>\n      <td>2024-03-26</td>\n      <td>DURATION</td>\n    </tr>\n  </tbody>\n</table>\n<p>534 rows × 5 columns</p>\n</div>"
     },
     "execution_count": 33,
     "metadata": {},
     "output_type": "execute_result"
    }
   ],
   "source": [
    "df"
   ],
   "metadata": {
    "collapsed": false,
    "ExecuteTime": {
     "end_time": "2024-03-27T04:48:45.757819Z",
     "start_time": "2024-03-27T04:48:45.749874Z"
    }
   },
   "id": "21cbcac9d684d02e",
   "execution_count": 33
  },
  {
   "cell_type": "code",
   "outputs": [
    {
     "data": {
      "text/plain": "506"
     },
     "execution_count": 34,
     "metadata": {},
     "output_type": "execute_result"
    }
   ],
   "source": [
    "dedup_df.to_sql(\"points\", con, if_exists=\"replace\", index=False)"
   ],
   "metadata": {
    "collapsed": false,
    "ExecuteTime": {
     "end_time": "2024-03-27T04:49:00.574452Z",
     "start_time": "2024-03-27T04:49:00.566689Z"
    }
   },
   "id": "ac58c756875463dc",
   "execution_count": 34
  },
  {
   "cell_type": "code",
   "outputs": [],
   "source": [
    "# Drop the entry for dinkstar at day 2024-03-05\n",
    "df = pd.read_sql_query(\"SELECT * from points WHERE name != 'dinkstar' OR day != '2024-03-05'\", con)"
   ],
   "metadata": {
    "collapsed": false,
    "ExecuteTime": {
     "end_time": "2024-03-27T04:49:11.606810Z",
     "start_time": "2024-03-27T04:49:11.602664Z"
    }
   },
   "id": "c01793ddb3618c4e",
   "execution_count": 35
  },
  {
   "cell_type": "code",
   "outputs": [
    {
     "data": {
      "text/plain": "504"
     },
     "execution_count": 36,
     "metadata": {},
     "output_type": "execute_result"
    }
   ],
   "source": [
    "df.to_sql(\"points\", con, if_exists=\"replace\", index=False)"
   ],
   "metadata": {
    "collapsed": false,
    "ExecuteTime": {
     "end_time": "2024-03-27T04:49:16.111654Z",
     "start_time": "2024-03-27T04:49:16.104573Z"
    }
   },
   "id": "434e223660d6187d",
   "execution_count": 36
  },
  {
   "cell_type": "code",
   "outputs": [],
   "source": [],
   "metadata": {
    "collapsed": false
   },
   "id": "5171d4e67c1e4618"
  }
 ],
 "metadata": {
  "kernelspec": {
   "display_name": "Python 3",
   "language": "python",
   "name": "python3"
  },
  "language_info": {
   "codemirror_mode": {
    "name": "ipython",
    "version": 2
   },
   "file_extension": ".py",
   "mimetype": "text/x-python",
   "name": "python",
   "nbconvert_exporter": "python",
   "pygments_lexer": "ipython2",
   "version": "2.7.6"
  }
 },
 "nbformat": 4,
 "nbformat_minor": 5
}
