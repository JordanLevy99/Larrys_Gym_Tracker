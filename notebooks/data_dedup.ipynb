{
 "cells": [
  {
   "cell_type": "code",
   "execution_count": 1,
   "id": "initial_id",
   "metadata": {
    "collapsed": true,
    "ExecuteTime": {
     "end_time": "2024-04-03T01:28:43.234726Z",
     "start_time": "2024-04-03T01:28:43.014804Z"
    }
   },
   "source": [
    "import pandas as pd\n",
    "import sqlite3"
   ],
   "outputs": []
  },
  {
   "cell_type": "code",
   "source": [
    "# Create a SQL connection to our SQLite database\n",
    "con = sqlite3.connect(\"../test.db\")"
   ],
   "metadata": {
    "collapsed": false,
    "ExecuteTime": {
     "end_time": "2024-04-03T01:28:44.619202Z",
     "start_time": "2024-04-03T01:28:44.617002Z"
    }
   },
   "id": "9a1c346f0474cced",
   "execution_count": 2,
   "outputs": []
  },
  {
   "cell_type": "code",
   "source": [
    "\"\"\"\n",
    "SELECT name, SUM(points_awarded) as 'season', COUNT(DISTINCT day) as 'days'\n",
    "                    FROM (\n",
    "                        SELECT name, id, points_awarded, day, type\n",
    "                        FROM points\n",
    "                        \n",
    "                    )  \n",
    "                    WHERE strftime('%m', day) >= \"04\" \n",
    "                    GROUP BY id\n",
    "\"\"\""
   ],
   "metadata": {
    "collapsed": false
   },
   "id": "dc893b2f255810ce",
   "execution_count": null,
   "outputs": []
  },
  {
   "cell_type": "code",
   "source": [
    "# Load the data into a DataFrame\n",
    "df = pd.read_sql_query(\"\"\"SELECT name, SUM(points_awarded) as 'season', COUNT(DISTINCT day) as 'days'\n",
    "                    FROM (\n",
    "                        SELECT name, id, points_awarded, day, type\n",
    "                        FROM points\n",
    "                        \n",
    "                    )  \n",
    "                    WHERE strftime('%m', day) >= \"03\" \n",
    "                    GROUP BY id\n",
    "                    \"\"\", con)"
   ],
   "metadata": {
    "collapsed": false,
    "ExecuteTime": {
     "end_time": "2024-04-03T01:32:05.039329Z",
     "start_time": "2024-04-03T01:32:05.035650Z"
    }
   },
   "id": "ef0ee30995bbd3f9",
   "execution_count": 11,
   "outputs": []
  },
  {
   "cell_type": "code",
   "source": [
    "df"
   ],
   "metadata": {
    "collapsed": false,
    "ExecuteTime": {
     "end_time": "2024-04-03T01:32:06.344349Z",
     "start_time": "2024-04-03T01:32:06.338348Z"
    }
   },
   "id": "b686fce38378414c",
   "execution_count": 12,
   "outputs": []
  },
  {
   "cell_type": "code",
   "source": [
    "# Drop duplicates\n",
    "dedup_df = df.drop_duplicates()"
   ],
   "metadata": {
    "collapsed": false,
    "ExecuteTime": {
     "end_time": "2024-03-27T04:48:44.820945Z",
     "start_time": "2024-03-27T04:48:44.816821Z"
    }
   },
   "id": "43705164f8b7361e",
   "execution_count": 32,
   "outputs": []
  },
  {
   "cell_type": "code",
   "source": [
    "df"
   ],
   "metadata": {
    "collapsed": false,
    "ExecuteTime": {
     "end_time": "2024-03-27T04:48:45.757819Z",
     "start_time": "2024-03-27T04:48:45.749874Z"
    }
   },
   "id": "21cbcac9d684d02e",
   "execution_count": 33,
   "outputs": []
  },
  {
   "cell_type": "code",
   "source": [
    "dedup_df.to_sql(\"points\", con, if_exists=\"replace\", index=False)"
   ],
   "metadata": {
    "collapsed": false,
    "ExecuteTime": {
     "end_time": "2024-03-27T04:49:00.574452Z",
     "start_time": "2024-03-27T04:49:00.566689Z"
    }
   },
   "id": "ac58c756875463dc",
   "execution_count": 34,
   "outputs": []
  },
  {
   "cell_type": "code",
   "source": [
    "# Drop the entry for dinkstar at day 2024-03-05\n",
    "df = pd.read_sql_query(\"SELECT * from points WHERE name != 'dinkstar' OR day != '2024-03-05'\", con)"
   ],
   "metadata": {
    "collapsed": false,
    "ExecuteTime": {
     "end_time": "2024-03-27T04:49:11.606810Z",
     "start_time": "2024-03-27T04:49:11.602664Z"
    }
   },
   "id": "c01793ddb3618c4e",
   "execution_count": 35,
   "outputs": []
  },
  {
   "cell_type": "code",
   "source": [
    "df.to_sql(\"points\", con, if_exists=\"replace\", index=False)"
   ],
   "metadata": {
    "collapsed": false,
    "ExecuteTime": {
     "end_time": "2024-03-27T04:49:16.111654Z",
     "start_time": "2024-03-27T04:49:16.104573Z"
    }
   },
   "id": "434e223660d6187d",
   "execution_count": 36,
   "outputs": []
  },
  {
   "cell_type": "code",
   "source": [],
   "metadata": {
    "collapsed": false
   },
   "id": "5171d4e67c1e4618",
   "execution_count": null,
   "outputs": []
  }
 ],
 "metadata": {
  "kernelspec": {
   "display_name": "Python 3",
   "language": "python",
   "name": "python3"
  },
  "language_info": {
   "codemirror_mode": {
    "name": "ipython",
    "version": 2
   },
   "file_extension": ".py",
   "mimetype": "text/x-python",
   "name": "python",
   "nbconvert_exporter": "python",
   "pygments_lexer": "ipython2",
   "version": "2.7.6"
  }
 },
 "nbformat": 4,
 "nbformat_minor": 5
}
