{
 "cells": [
  {
   "cell_type": "code",
   "execution_count": 4,
   "id": "b9c45a278f160222",
   "metadata": {
    "collapsed": false,
    "ExecuteTime": {
     "end_time": "2024-04-03T04:06:56.179598Z",
     "start_time": "2024-04-03T04:06:56.171917Z"
    }
   },
   "outputs": [],
   "source": [
    "from openai import OpenAI\n",
    "import os\n",
    "from dotenv import load_dotenv"
   ]
  },
  {
   "cell_type": "code",
   "outputs": [],
   "source": [
    "load_dotenv()\n",
    "\n",
    "client = OpenAI(\n",
    "    api_key=os.environ.get(\"OPENAI_API_KEY\"),\n",
    ")"
   ],
   "metadata": {
    "collapsed": true,
    "ExecuteTime": {
     "end_time": "2024-04-03T04:06:56.396930Z",
     "start_time": "2024-04-03T04:06:56.381157Z"
    }
   },
   "id": "initial_id",
   "execution_count": 5
  },
  {
   "cell_type": "code",
   "outputs": [
    {
     "name": "stdout",
     "output_type": "stream",
     "text": [
      "('voice_log',)\n",
      "('points',)\n",
      "('larrys_database.db',)\n"
     ]
    }
   ],
   "source": [
    "import sqlite3\n",
    "import pandas as pd\n",
    "\n",
    "# Connect to the SQLite database\n",
    "conn = sqlite3.connect('../larrys_database.db')\n",
    "\n",
    "# Get a cursor object\n",
    "cur = conn.cursor()\n",
    "\n",
    "# Execute a query to get all table names in the database\n",
    "cur.execute(\"SELECT name FROM sqlite_master WHERE type='table';\")\n",
    "tables = cur.fetchall()\n",
    "\n",
    "# For each table\n",
    "for table_name in tables:\n",
    "    print(table_name)\n",
    "    if '.db' in table_name[0]:\n",
    "        continue\n",
    "    table_name = table_name[0]\n",
    "    table = pd.read_sql_query(\"SELECT * from %s\" % table_name, conn)\n",
    "    \n",
    "    # Write the data of each table to a CSV file\n",
    "    table.to_csv('../data/'+table_name + '.csv', index=False)\n",
    "\n",
    "# Close the connection\n",
    "conn.close()"
   ],
   "metadata": {
    "collapsed": false,
    "ExecuteTime": {
     "end_time": "2024-04-03T04:22:02.989786Z",
     "start_time": "2024-04-03T04:22:02.979701Z"
    }
   },
   "id": "54c8bd122654c85c",
   "execution_count": 13
  },
  {
   "cell_type": "code",
   "outputs": [
    {
     "name": "stdout",
     "output_type": "stream",
     "text": [
      "Assistant(id='asst_K7rd8jZdokf4g1pyWaGDz5hl', created_at=1712120410, description=None, file_ids=['file-URlqevL5JOu7nrNEJotVEtNf', 'file-c1agw2CS6Az1RBiwkzBynIEt'], instructions=\"You are an assistant to my discord bot called Larry's Bot that lives in Larry's Gym. You will provide interesting tidbits of information contained in points.csv and voice_log.csv (both of which are tables in the database called larrys_database.db), by reading the data in pandas and evaluating interesting trends in points. In general, try to look at interesting trends by individual users, excluding 'Larry's Bot' from your analyses. Make sure to sort the dates by the most recent days and give analyses based on the most recent days with occasional callbacks to further out days. Make sure to provide the information with some flair and a sense of competitiveness.\", metadata={}, model='gpt-4-0125-preview', name=\"Larry's Assistant\", object='assistant', tools=[CodeInterpreterTool(type='code_interpreter')])\n"
     ]
    }
   ],
   "source": [
    "voice_log_file = client.files.create(\n",
    "    file=open(\"../data/voice_log.csv\", \"rb\"),\n",
    "    purpose=\"assistants\"\n",
    ")\n",
    "points_file = client.files.create(\n",
    "    file=open(\"../data/points.csv\", \"rb\"),\n",
    "    purpose=\"assistants\"\n",
    ")\n",
    "\n",
    "my_assistant = client.beta.assistants.create(\n",
    "    instructions=\"You are an assistant to my discord bot called Larry's Bot that lives in Larry's Gym. You will provide interesting tidbits of information contained in points.csv and voice_log.csv (both of which are tables in the database called larrys_database.db), by reading the data in pandas and evaluating interesting trends in points. In general, try to look at interesting trends by individual users, excluding 'Larry's Bot' from your analyses. Make sure to sort the dates by the most recent days and give analyses based on the most recent days with occasional callbacks to further out days. Make sure to provide the information with some flair and a sense of competitiveness.\",\n",
    "    name=\"Larry's Assistant\",\n",
    "    tools=[{\"type\": \"code_interpreter\"}],\n",
    "    model=\"gpt-4-0125-preview\",\n",
    "    file_ids=[voice_log_file.id, points_file.id]\n",
    ")\n",
    "\n",
    "print(my_assistant)"
   ],
   "metadata": {
    "collapsed": false,
    "ExecuteTime": {
     "end_time": "2024-04-03T05:00:11.084487Z",
     "start_time": "2024-04-03T05:00:09.279417Z"
    }
   },
   "id": "acc5d574d9d32c20",
   "execution_count": 78
  },
  {
   "cell_type": "code",
   "outputs": [
    {
     "name": "stdout",
     "output_type": "stream",
     "text": [
      "Thread(id='thread_0Ykpup9hyVOqhY0CoLBoWY7l', created_at=1712120411, metadata={}, object='thread')\n"
     ]
    }
   ],
   "source": [
    "thread = client.beta.threads.create()\n",
    "print(thread)"
   ],
   "metadata": {
    "collapsed": false,
    "ExecuteTime": {
     "end_time": "2024-04-03T05:00:11.324502Z",
     "start_time": "2024-04-03T05:00:11.086174Z"
    }
   },
   "id": "de2d57978f6329a4",
   "execution_count": 79
  },
  {
   "cell_type": "code",
   "outputs": [],
   "source": [
    "thread_message = client.beta.threads.messages.create(\n",
    "    thread_id=thread.id,\n",
    "    role=\"assistant\",\n",
    "    content=\"Let's recap the most recent day of data, shall we?\"\n",
    ")"
   ],
   "metadata": {
    "collapsed": false,
    "ExecuteTime": {
     "end_time": "2024-04-03T05:00:11.633890Z",
     "start_time": "2024-04-03T05:00:11.325424Z"
    }
   },
   "id": "cf47f5e0596f78ee",
   "execution_count": 80
  },
  {
   "cell_type": "code",
   "outputs": [
    {
     "data": {
      "text/plain": "Message(id='msg_wt2Zpg9vOxXonDrnyoVMrnca', assistant_id=None, completed_at=None, content=[TextContentBlock(text=Text(annotations=[], value=\"Let's recap the most recent day of data, shall we?\"), type='text')], created_at=1712120411, file_ids=[], incomplete_at=None, incomplete_details=None, metadata={}, object='thread.message', role='assistant', run_id=None, status=None, thread_id='thread_0Ykpup9hyVOqhY0CoLBoWY7l')"
     },
     "execution_count": 81,
     "metadata": {},
     "output_type": "execute_result"
    }
   ],
   "source": [
    "thread_message"
   ],
   "metadata": {
    "collapsed": false,
    "ExecuteTime": {
     "end_time": "2024-04-03T05:00:12.625469Z",
     "start_time": "2024-04-03T05:00:12.621967Z"
    }
   },
   "id": "499de28af9140150",
   "execution_count": 81
  },
  {
   "cell_type": "code",
   "outputs": [],
   "source": [
    "run = client.beta.threads.runs.create_and_poll(\n",
    "  thread_id=thread.id,\n",
    "  assistant_id=my_assistant.id,\n",
    ")"
   ],
   "metadata": {
    "collapsed": false,
    "ExecuteTime": {
     "end_time": "2024-04-03T05:01:42.382326Z",
     "start_time": "2024-04-03T05:00:13.566747Z"
    }
   },
   "id": "d5a7b10117090538",
   "execution_count": 82
  },
  {
   "cell_type": "code",
   "outputs": [],
   "source": [
    "# run"
   ],
   "metadata": {
    "collapsed": false,
    "ExecuteTime": {
     "end_time": "2024-04-03T05:01:42.393218Z",
     "start_time": "2024-04-03T05:01:42.387289Z"
    }
   },
   "id": "f7e590611872afc7",
   "execution_count": 83
  },
  {
   "cell_type": "code",
   "outputs": [],
   "source": [
    "messages = client.beta.threads.messages.list(\n",
    "    thread_id=thread.id\n",
    "  )"
   ],
   "metadata": {
    "collapsed": false,
    "ExecuteTime": {
     "end_time": "2024-04-03T05:01:42.576037Z",
     "start_time": "2024-04-03T05:01:42.398681Z"
    }
   },
   "id": "38281e738005a6e",
   "execution_count": 84
  },
  {
   "cell_type": "code",
   "outputs": [
    {
     "data": {
      "text/plain": "SyncCursorPage[Message](data=[Message(id='msg_7ykmAUy1rBcMplC8yCNZC7am', assistant_id='asst_K7rd8jZdokf4g1pyWaGDz5hl', completed_at=None, content=[TextContentBlock(text=Text(annotations=[], value=\"In the heated battle of consistency over the past week in Larry's Gym, the standings reveal a fierce competition:\\n\\n- **dinkstar**, the embodiment of determination, championed with **7** gym entrances!\\n- Hot on their heels, **bemno** showed formidable commitment, entering **5** times.\\n- Not to be overlooked, **kyboydigital** and the ever-reliable gym bot, both stepped in **4** times, sharing the bronze spotlight.\\n\\nTruly, this past week has been a testament to the unyielding spirit of Larry's Gym members. Let's keep the fire burning and seek out more intriguing insights, shall we?\"), type='text')], created_at=1712120496, file_ids=[], incomplete_at=None, incomplete_details=None, metadata={}, object='thread.message', role='assistant', run_id='run_MUEnPoy9QazkzkCHOZPnN3cd', status=None, thread_id='thread_0Ykpup9hyVOqhY0CoLBoWY7l'), Message(id='msg_fShmza0YyPVGhFpuy7WwpfRs', assistant_id='asst_K7rd8jZdokf4g1pyWaGDz5hl', completed_at=None, content=[TextContentBlock(text=Text(annotations=[], value=\"Looks like we've got a titan of commitment among us on the most recent day in Larry's Gym:\\n\\n- **dinkstar** flexed true dedication by stepping into the arena **1** time, matching the gym bot's own record for the day.\\n\\nA round of applause for dinkstar's motivation! But let's not stop here; we'll dig a little deeper and see who's been leading over the past week. Let's get into it!\"), type='text')], created_at=1712120483, file_ids=[], incomplete_at=None, incomplete_details=None, metadata={}, object='thread.message', role='assistant', run_id='run_MUEnPoy9QazkzkCHOZPnN3cd', status=None, thread_id='thread_0Ykpup9hyVOqhY0CoLBoWY7l'), Message(id='msg_PwQehMONVkiXOwtlNBDHXXtr', assistant_id='asst_K7rd8jZdokf4g1pyWaGDz5hl', completed_at=None, content=[TextContentBlock(text=Text(annotations=[], value=\"Let's see who hit the gym the most in recent days, shall we?\"), type='text')], created_at=1712120475, file_ids=[], incomplete_at=None, incomplete_details=None, metadata={}, object='thread.message', role='assistant', run_id='run_MUEnPoy9QazkzkCHOZPnN3cd', status=None, thread_id='thread_0Ykpup9hyVOqhY0CoLBoWY7l'), Message(id='msg_oFmv6O0dJvsI4pXSGCXejtGL', assistant_id='asst_K7rd8jZdokf4g1pyWaGDz5hl', completed_at=None, content=[TextContentBlock(text=Text(annotations=[], value=\"On the most recent glorious day in Larry's Gym, spotlight shines upon a single valiant member, **dinkstar**, who has showcased both punctuality and endurance! Here's the breakdown:\\n\\n- **On Time**: dinkstar earned an admirable **48.18** points for being on time.\\n- **Duration**: Furthermore, for enduring the length of the workout, dinkstar racked up an impressive **50.00** points.\\n\\nTruly, dinkstar stands as a beacon of dedication in Larry's Gym. Let's bring up some more engaging stats next, shall we?\"), type='text')], created_at=1712120469, file_ids=[], incomplete_at=None, incomplete_details=None, metadata={}, object='thread.message', role='assistant', run_id='run_MUEnPoy9QazkzkCHOZPnN3cd', status=None, thread_id='thread_0Ykpup9hyVOqhY0CoLBoWY7l'), Message(id='msg_QaKn7bdA0qxiqNKH5RbvhPGT', assistant_id='asst_K7rd8jZdokf4g1pyWaGDz5hl', completed_at=None, content=[TextContentBlock(text=Text(annotations=[], value='Ah ha! It seems there was a bit of a mix-up in filtering out \"Larry\\'s Bot\" from our analysis. Let me correct this oversight and proceed once more.'), type='text')], created_at=1712120461, file_ids=[], incomplete_at=None, incomplete_details=None, metadata={}, object='thread.message', role='assistant', run_id='run_MUEnPoy9QazkzkCHOZPnN3cd', status=None, thread_id='thread_0Ykpup9hyVOqhY0CoLBoWY7l'), Message(id='msg_ilmLo8ofLbbh0NZMnJX01QXr', assistant_id='asst_K7rd8jZdokf4g1pyWaGDz5hl', completed_at=None, content=[TextContentBlock(text=Text(annotations=[], value=\"It looks like I made a mix-up between the two dataframes. The `day` column is actually in the points data (`points_df`), and it seems I've switched the labels for the dataframes. Let me correct that mistake and proceed with the analysis properly this time around!\"), type='text')], created_at=1712120443, file_ids=[], incomplete_at=None, incomplete_details=None, metadata={}, object='thread.message', role='assistant', run_id='run_MUEnPoy9QazkzkCHOZPnN3cd', status=None, thread_id='thread_0Ykpup9hyVOqhY0CoLBoWY7l'), Message(id='msg_E3CUqycVIyieKE334fgCV2uf', assistant_id='asst_K7rd8jZdokf4g1pyWaGDz5hl', completed_at=None, content=[TextContentBlock(text=Text(annotations=[], value='We have two fascinating datasets at our disposal! Let\\'s break them down:\\n\\n1. **Voice Log Data (`voice_log_df`)**: This table captures users\\' activities in Larry\\'s Gym, including joining and leaving the channel. Each record includes the user\\'s name, Discord ID, timestamp of the activity, the channel they interacted with, and whether they joined (1) or left (0) the channel.\\n\\n2. **Points Data (`points_df`)**: This table showcases the points awarded to users for their activities. Entries include the user\\'s name, their Discord ID, the number of points awarded, the date those points were awarded, and the type of activity for which the points were given (e.g., \"ON TIME\", \"DURATION\").\\n\\nNow, let\\'s dive into the most recent trends and outstanding performances by exluding \\'Larry\\'s Bot\\' from the analyses. Let\\'s start by identifying the most recent day with activities and summarizing the performances of that day.'), type='text')], created_at=1712120423, file_ids=[], incomplete_at=None, incomplete_details=None, metadata={}, object='thread.message', role='assistant', run_id='run_MUEnPoy9QazkzkCHOZPnN3cd', status=None, thread_id='thread_0Ykpup9hyVOqhY0CoLBoWY7l'), Message(id='msg_wt2Zpg9vOxXonDrnyoVMrnca', assistant_id=None, completed_at=None, content=[TextContentBlock(text=Text(annotations=[], value=\"Let's recap the most recent day of data, shall we?\"), type='text')], created_at=1712120411, file_ids=[], incomplete_at=None, incomplete_details=None, metadata={}, object='thread.message', role='assistant', run_id=None, status=None, thread_id='thread_0Ykpup9hyVOqhY0CoLBoWY7l')], object='list', first_id='msg_7ykmAUy1rBcMplC8yCNZC7am', last_id='msg_wt2Zpg9vOxXonDrnyoVMrnca', has_more=False)"
     },
     "execution_count": 85,
     "metadata": {},
     "output_type": "execute_result"
    }
   ],
   "source": [
    "messages"
   ],
   "metadata": {
    "collapsed": false,
    "ExecuteTime": {
     "end_time": "2024-04-03T05:01:42.583238Z",
     "start_time": "2024-04-03T05:01:42.578411Z"
    }
   },
   "id": "2e91e16e89423133",
   "execution_count": 85
  },
  {
   "cell_type": "code",
   "outputs": [
    {
     "data": {
      "text/plain": "                name                   id  points_awarded         day  \\\n523         dinkstar   353332394541187074       50.000000  2024-03-30   \n522  Larry's Gym Bot  1191145890925260810        0.384693  2024-03-30   \n521         dinkstar   353332394541187074       48.183295  2024-03-30   \n520  Larry's Gym Bot  1191145890925260810       32.218400  2024-03-30   \n519     kyboydigital   639283802308476970        1.750946  2024-03-29   \n..               ...                  ...             ...         ...   \n1              bemno   369989877229682688       29.037037  2024-01-02   \n5              bemno   369989877229682688       48.611111  2024-01-02   \n6          jam4bears   390403088722165762       50.000000  2024-01-02   \n7       kyboydigital   639283802308476970       49.240741  2024-01-02   \n0           dinkstar   353332394541187074       49.925926  2024-01-02   \n\n         type  \n523  DURATION  \n522  DURATION  \n521   ON TIME  \n520   ON TIME  \n519  DURATION  \n..        ...  \n1     ON TIME  \n5    DURATION  \n6    DURATION  \n7    DURATION  \n0     ON TIME  \n\n[524 rows x 5 columns]",
      "text/html": "<div>\n<style scoped>\n    .dataframe tbody tr th:only-of-type {\n        vertical-align: middle;\n    }\n\n    .dataframe tbody tr th {\n        vertical-align: top;\n    }\n\n    .dataframe thead th {\n        text-align: right;\n    }\n</style>\n<table border=\"1\" class=\"dataframe\">\n  <thead>\n    <tr style=\"text-align: right;\">\n      <th></th>\n      <th>name</th>\n      <th>id</th>\n      <th>points_awarded</th>\n      <th>day</th>\n      <th>type</th>\n    </tr>\n  </thead>\n  <tbody>\n    <tr>\n      <th>523</th>\n      <td>dinkstar</td>\n      <td>353332394541187074</td>\n      <td>50.000000</td>\n      <td>2024-03-30</td>\n      <td>DURATION</td>\n    </tr>\n    <tr>\n      <th>522</th>\n      <td>Larry's Gym Bot</td>\n      <td>1191145890925260810</td>\n      <td>0.384693</td>\n      <td>2024-03-30</td>\n      <td>DURATION</td>\n    </tr>\n    <tr>\n      <th>521</th>\n      <td>dinkstar</td>\n      <td>353332394541187074</td>\n      <td>48.183295</td>\n      <td>2024-03-30</td>\n      <td>ON TIME</td>\n    </tr>\n    <tr>\n      <th>520</th>\n      <td>Larry's Gym Bot</td>\n      <td>1191145890925260810</td>\n      <td>32.218400</td>\n      <td>2024-03-30</td>\n      <td>ON TIME</td>\n    </tr>\n    <tr>\n      <th>519</th>\n      <td>kyboydigital</td>\n      <td>639283802308476970</td>\n      <td>1.750946</td>\n      <td>2024-03-29</td>\n      <td>DURATION</td>\n    </tr>\n    <tr>\n      <th>...</th>\n      <td>...</td>\n      <td>...</td>\n      <td>...</td>\n      <td>...</td>\n      <td>...</td>\n    </tr>\n    <tr>\n      <th>1</th>\n      <td>bemno</td>\n      <td>369989877229682688</td>\n      <td>29.037037</td>\n      <td>2024-01-02</td>\n      <td>ON TIME</td>\n    </tr>\n    <tr>\n      <th>5</th>\n      <td>bemno</td>\n      <td>369989877229682688</td>\n      <td>48.611111</td>\n      <td>2024-01-02</td>\n      <td>DURATION</td>\n    </tr>\n    <tr>\n      <th>6</th>\n      <td>jam4bears</td>\n      <td>390403088722165762</td>\n      <td>50.000000</td>\n      <td>2024-01-02</td>\n      <td>DURATION</td>\n    </tr>\n    <tr>\n      <th>7</th>\n      <td>kyboydigital</td>\n      <td>639283802308476970</td>\n      <td>49.240741</td>\n      <td>2024-01-02</td>\n      <td>DURATION</td>\n    </tr>\n    <tr>\n      <th>0</th>\n      <td>dinkstar</td>\n      <td>353332394541187074</td>\n      <td>49.925926</td>\n      <td>2024-01-02</td>\n      <td>ON TIME</td>\n    </tr>\n  </tbody>\n</table>\n<p>524 rows × 5 columns</p>\n</div>"
     },
     "execution_count": 77,
     "metadata": {},
     "output_type": "execute_result"
    }
   ],
   "source": [
    "pd.read_csv('../data/points.csv').sort_values(by='day',ascending=False)"
   ],
   "metadata": {
    "collapsed": false,
    "ExecuteTime": {
     "end_time": "2024-04-03T04:57:15.891969Z",
     "start_time": "2024-04-03T04:57:15.885878Z"
    }
   },
   "id": "17cb9a4700aa5306",
   "execution_count": 77
  },
  {
   "cell_type": "code",
   "outputs": [],
   "source": [],
   "metadata": {
    "collapsed": false
   },
   "id": "4468af87d498e28c"
  }
 ],
 "metadata": {
  "kernelspec": {
   "display_name": "Python 3",
   "language": "python",
   "name": "python3"
  },
  "language_info": {
   "codemirror_mode": {
    "name": "ipython",
    "version": 2
   },
   "file_extension": ".py",
   "mimetype": "text/x-python",
   "name": "python",
   "nbconvert_exporter": "python",
   "pygments_lexer": "ipython2",
   "version": "2.7.6"
  }
 },
 "nbformat": 4,
 "nbformat_minor": 5
}
